{
 "cells": [
  {
   "cell_type": "code",
   "execution_count": 76,
   "id": "f3fdb128-8f61-4fff-a082-b595f5f9fdf9",
   "metadata": {},
   "outputs": [],
   "source": [
    "import os \n",
    "import shutil\n",
    "import re "
   ]
  },
  {
   "cell_type": "code",
   "execution_count": 77,
   "id": "c4d1f87d-71e5-472b-994e-fc6d72fa69b4",
   "metadata": {},
   "outputs": [],
   "source": [
    "os.makedirs('/Users/olivianeilly/Desktop/lab/newscopepath', exist_ok=True) \n",
    "os.makedirs('/Users/olivianeilly/Desktop/lab/newscopepath/s049', exist_ok=True)\n",
    "os.makedirs('/Users/olivianeilly/Desktop/lab/newscopepath/s056', exist_ok=True)"
   ]
  },
  {
   "cell_type": "code",
   "execution_count": 78,
   "id": "6af367c9-b86b-467b-8828-745c3503b41e",
   "metadata": {},
   "outputs": [
    {
     "name": "stdout",
     "output_type": "stream",
     "text": [
      "Files that include a search string:\n",
      "Files that include a search string:\n",
      "No date is found in file name .DS_Store\n",
      "No date is found in file name .DS_Store\n"
     ]
    }
   ],
   "source": [
    "def scopeseparation():\n",
    "    directory= ('/Users/olivianeilly/Desktop/lab/scopepath')\n",
    "    s049= ('/Users/olivianeilly/Desktop/lab/newscopepath/s049')\n",
    "    s056= ('/Users/olivianeilly/Desktop/lab/newscopepath/s056')\n",
    "    \n",
    "    file_name=os.listdir(directory)\n",
    "    sorted_file_names=sorted(file_name)\n",
    "\n",
    "    search_string_1= ['7049']\n",
    "    search_string_2= ['7056']\n",
    "    \n",
    "    filtered_files_1 = [file for file in sorted_file_names if any(s in file for s in search_string_1)]\n",
    "    print(\"Files that include a search string:\")\n",
    "    for file in filtered_files_1:\n",
    "        source= os.path.join(directory, file)\n",
    "        destination= os.path.join(s049, file)\n",
    "        shutil.copy(source, destination)\n",
    "\n",
    "    \n",
    "    filtered_files_2 = [file for file in sorted_file_names if any(s in file for s in search_string_2)]\n",
    "    print(\"Files that include a search string:\")\n",
    "    for file in filtered_files_2:\n",
    "        source= os.path.join(directory, file)\n",
    "        destination= os.path.join (s056, file) \n",
    "        shutil.copy(source, destination) \n",
    "\n",
    "\n",
    "    def sort_by_date(base_directory):\n",
    "        date_pattern= re.compile(r'(\\d{4}-\\d{2}-\\d{2})')\n",
    "\n",
    "        #loop?? first connects sub dir to base dir, and then confirms it is a dir \n",
    "        for sub_dir in os.listdir(base_directory):\n",
    "            sub_dir_path=os.path.join(base_directory, sub_dir)\n",
    "            if os.path.isdir(sub_dir_path):\n",
    "                #Process files?\n",
    "                for file_name in os.listdir(sub_dir_path):\n",
    "                    file_path=os.path.join(sub_dir_path, file_name)\n",
    "                    if os.path.isfile(file_path):\n",
    "                        #Search for a date\n",
    "                        match = date_pattern.search(file_name)\n",
    "                        if match: \n",
    "                            date_str= match.group(1)\n",
    "                            date_dir_path= os.path.join(sub_dir_path, date_str)\n",
    "                            if not os.path.exists (date_dir_path):\n",
    "                                os.makedirs(date_dir_path)\n",
    "                            shutil.move(file_path, os.path.join(date_dir_path, file_name))\n",
    "\n",
    "                        else: \n",
    "                            print(f\"No date is found in file name {file_name}\")\n",
    "\n",
    "    \n",
    "    base_directory= ('/Users/olivianeilly/Desktop/lab/newscopepath')\n",
    "    \n",
    "    sort_by_date(base_directory)\n",
    "\n",
    "scopeseparation()"
   ]
  },
  {
   "cell_type": "code",
   "execution_count": null,
   "id": "7f838db1-a0ec-43c2-b728-233fd5705169",
   "metadata": {},
   "outputs": [],
   "source": []
  }
 ],
 "metadata": {
  "kernelspec": {
   "display_name": "Python 3 (ipykernel)",
   "language": "python",
   "name": "python3"
  },
  "language_info": {
   "codemirror_mode": {
    "name": "ipython",
    "version": 3
   },
   "file_extension": ".py",
   "mimetype": "text/x-python",
   "name": "python",
   "nbconvert_exporter": "python",
   "pygments_lexer": "ipython3",
   "version": "3.9.19"
  }
 },
 "nbformat": 4,
 "nbformat_minor": 5
}
